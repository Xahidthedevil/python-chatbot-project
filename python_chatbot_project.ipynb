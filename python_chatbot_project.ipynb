{
  "nbformat": 4,
  "nbformat_minor": 0,
  "metadata": {
    "colab": {
      "name": "python-chatbot-project.ipynb",
      "provenance": []
    },
    "kernelspec": {
      "name": "python3",
      "display_name": "Python 3"
    },
    "language_info": {
      "name": "python"
    }
  },
  "cells": [
    {
      "cell_type": "markdown",
      "source": [
        "Removing the old unnecessary files"
      ],
      "metadata": {
        "id": "cCvJKkQYd1ad"
      }
    },
    {
      "cell_type": "code",
      "source": [
        "!rm -rf *"
      ],
      "metadata": {
        "id": "4cJ2kvaMePqy"
      },
      "execution_count": 9,
      "outputs": []
    },
    {
      "cell_type": "markdown",
      "source": [
        "Cloning my python chatbot project repository"
      ],
      "metadata": {
        "id": "pnQyNpzDcomC"
      }
    },
    {
      "cell_type": "code",
      "execution_count": null,
      "metadata": {
        "id": "g5ZvQYwcWoF3"
      },
      "outputs": [],
      "source": [
        "!git clone https://github.com/Xahidthedevil/python-chatbot-project.git"
      ]
    },
    {
      "cell_type": "markdown",
      "source": [
        "Checking the file & folders"
      ],
      "metadata": {
        "id": "K5hj-iHoc4NB"
      }
    },
    {
      "cell_type": "code",
      "source": [
        "!ls"
      ],
      "metadata": {
        "id": "LeAamZjndN_h"
      },
      "execution_count": null,
      "outputs": []
    },
    {
      "cell_type": "markdown",
      "source": [
        "Moving the project file to the root directory & removing the repository folder"
      ],
      "metadata": {
        "id": "EmVxfsM7dXx9"
      }
    },
    {
      "cell_type": "code",
      "source": [
        "!mv python-chatbot-project/* . && rm -rf python-chatbot-project && ls"
      ],
      "metadata": {
        "id": "O9vPJdryWuPE"
      },
      "execution_count": null,
      "outputs": []
    },
    {
      "cell_type": "markdown",
      "source": [
        "Installing dependencies from requirements.txt file"
      ],
      "metadata": {
        "id": "PmHhPOzAe5ff"
      }
    },
    {
      "cell_type": "code",
      "source": [
        "!pip3 install --no-cache-dir -r requirements.txt"
      ],
      "metadata": {
        "id": "Uj0_hxGFfIRe"
      },
      "execution_count": null,
      "outputs": []
    },
    {
      "cell_type": "markdown",
      "source": [
        "Now, running the chatbot"
      ],
      "metadata": {
        "id": "LlxddxDTfPjl"
      }
    },
    {
      "cell_type": "code",
      "source": [
        "!python3 chatbot.py"
      ],
      "metadata": {
        "id": "s0qGGpHkfUsK"
      },
      "execution_count": null,
      "outputs": []
    }
  ]
}